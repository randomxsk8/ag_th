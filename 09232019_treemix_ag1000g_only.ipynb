{
 "cells": [
  {
   "cell_type": "markdown",
   "metadata": {},
   "source": [
    "# Treemix Ag1000G phase2 populations\n",
    "\n",
    "For build a dataset Treemix I need unlinked SNPs. So I have to prune my allele count datasets to obtain SNPs in high LD.\n",
    "For doing this I need:\n",
    "\n",
    "    - Phase2 Genotype callset\n",
    "    - Phase2 Allele count\n",
    "    \n",
    "Importing modules:"
   ]
  },
  {
   "cell_type": "code",
   "execution_count": 1,
   "metadata": {},
   "outputs": [
    {
     "name": "stderr",
     "output_type": "stream",
     "text": [
      "imports_20150407.ipynb:26: MatplotlibDeprecationWarning: \n",
      "The savefig.jpeg_quality rcparam was deprecated in Matplotlib 3.3 and will be removed two minor releases later.\n",
      "  \"outputs_hidden\": false\n"
     ]
    }
   ],
   "source": [
    "%run imports.ipynb"
   ]
  },
  {
   "cell_type": "markdown",
   "metadata": {},
   "source": [
    "Importing callsets:"
   ]
  },
  {
   "cell_type": "code",
   "execution_count": 2,
   "metadata": {},
   "outputs": [],
   "source": [
    "callset_pass= callset_biallel\n",
    "allele_counts= zarr.open('../data/phase2_biallel_allele_count.zarr/')\n",
    "outgroup_allele_counts= zarr.open('../data/outgroup_alleles_phase2.zarr/')"
   ]
  },
  {
   "cell_type": "markdown",
   "metadata": {},
   "source": [
    "------------------------"
   ]
  },
  {
   "cell_type": "markdown",
   "metadata": {},
   "source": [
    "Taking only segregating SNPs for the phase2 callset:"
   ]
  },
  {
   "cell_type": "code",
   "execution_count": 3,
   "metadata": {},
   "outputs": [],
   "source": [
    "def ingroup_ascertainment(chrom, start, stop, segpops):\n",
    "\n",
    "    # locate region\n",
    "    pos = allel.SortedIndex(callset_pass[chrom]['variants']['POS'][:])\n",
    "    locr = pos.locate_range(start, stop)\n",
    "\n",
    "    # ascertain SNPs\n",
    "    loca = np.zeros(pos.shape, dtype='b1')\n",
    "    loca[locr] = True\n",
    "    log('Populations ascertainment, initial', nnz(loca))\n",
    "    \n",
    "    # require segregating\n",
    "    for pop in segpops:\n",
    "        ac = allel.AlleleCountsArray(allele_counts[chrom][pop][:, :2])\n",
    "        loc_seg = (ac.min(axis=1) > 0)\n",
    "        loca &= loc_seg\n",
    "        log('After require segregating in', pop, nnz(loca))\n",
    "        \n",
    "    return loca"
   ]
  },
  {
   "cell_type": "markdown",
   "metadata": {},
   "source": [
    "Define function for ld pruning. LD-pruning remove SNPs with an high correlation. Using windows this function compute pairwise LD between all SNPs within each window, then removing one SNP from each correlated pair."
   ]
  },
  {
   "cell_type": "code",
   "execution_count": 4,
   "metadata": {},
   "outputs": [],
   "source": [
    "def downsample_and_prune(chrom, start, stop, loc_asc,\n",
    "                         n=100000, ldp_size=500, ldp_step=250, ldp_threshold=.1, ldp_n_iter=1):\n",
    "\n",
    "    # all variant positions\n",
    "    pos = allel.SortedIndex(callset_pass[chrom]['variants']['POS'][:])\n",
    "    posa = pos[loc_asc]\n",
    "\n",
    "    # randomly downsample\n",
    "    if n < posa.shape[0]:\n",
    "        posds = np.random.choice(posa, n, replace=False)\n",
    "        posds.sort()\n",
    "        posds = allel.SortedIndex(posds)\n",
    "    else:\n",
    "        # skip downsampling\n",
    "        posds = posa\n",
    "    locds = pos.locate_keys(posds)    \n",
    "\n",
    "    # load genotype data\n",
    "    genotype = allel.GenotypeChunkedArray(callset_pass[chrom]['calldata/GT'])\n",
    "    geno_subset = genotype.subset(sel0=loc_asc)\n",
    "    gn = geno_subset.to_n_alt()\n",
    "\n",
    "    \n",
    "    # prune    \n",
    "    for i in range(ldp_n_iter):\n",
    "        loc_unlinked = allel.locate_unlinked(gn, size=ldp_size, step=ldp_step, threshold=ldp_threshold)\n",
    "        n = np.count_nonzero(loc_unlinked)\n",
    "        n_remove = gn.shape[0] - n\n",
    "        log('iteration', i+1, 'retaining', n, 'removing', n_remove, 'variants')\n",
    "        gnu = gn.compress(loc_unlinked, axis=0)\n",
    "        posu = pos.compress(loc_unlinked)\n",
    "        locu = pos.locate_keys(posu)\n",
    "\n",
    "    return locu"
   ]
  },
  {
   "cell_type": "markdown",
   "metadata": {},
   "source": [
    "Define function for generating treemix file:"
   ]
  },
  {
   "cell_type": "code",
   "execution_count": 5,
   "metadata": {},
   "outputs": [],
   "source": [
    "def to_treemix(acs, fn):\n",
    "    pops = sorted(acs.keys())\n",
    "    n_variants = acs[pops[0]].shape[0]\n",
    "    n_alleles = acs[pops[0]].shape[1]\n",
    "    assert n_alleles == 2, 'only biallelic variants supported'\n",
    "    for pop in pops[1:]:\n",
    "        assert n_variants == acs[pop].shape[0], 'bad number of variants for pop %s' % pop\n",
    "        assert n_alleles == acs[pop].shape[1], 'bad number of alleles for pop %s' % pop\n",
    "        \n",
    "    with open(fn, 'wt', encoding='ascii') as f:\n",
    "        print(' '.join(pops), file=f)\n",
    "        for i in range(n_variants):\n",
    "            print(' '.join([','.join(map(str, acs[pop][i])) for pop in pops]), file=f)\n"
   ]
  },
  {
   "cell_type": "markdown",
   "metadata": {},
   "source": [
    "Define last function, the analysis function that includes all function above and applies these on my populations, chromosomes and regions of interest."
   ]
  },
  {
   "cell_type": "code",
   "execution_count": 14,
   "metadata": {},
   "outputs": [],
   "source": [
    "def run_analysis(rname, chrom, start, stop, segpops,\n",
    "                 n=100000, ldp_size=500, ldp_step=250, ldp_threshold=.1, ldp_n_iter=1):\n",
    "\n",
    "    # initial ascertainment\n",
    "    loc_asc = ingroup_ascertainment(chrom, start, stop, segpops=segpops)\n",
    "    \n",
    "    # downsample and prune\n",
    "    locu = downsample_and_prune(chrom, start, stop, loc_asc, \n",
    "                                n=n, ldp_size=ldp_size, ldp_step=ldp_step, \n",
    "                                ldp_threshold=ldp_threshold, ldp_n_iter=ldp_n_iter)\n",
    "    \n",
    "    # write allele counts\n",
    "    acsu = dict()\n",
    "    for pop in segpops:\n",
    "        acsu[pop] = allele_counts[chrom][pop][:, :2][locu]\n",
    "\n",
    "    outdir = 'treemix/ag_pops/seg_%s_ldp_%s' % ('_'.join(segpops), ldp_n_iter)\n",
    "    !mkdir -pv {outdir}\n",
    "    fn = os.path.join(outdir, '%s.allele_counts.txt' % rname)\n",
    "    to_treemix(acsu, fn)\n",
    "    !gzip -fv {fn}"
   ]
  },
  {
   "cell_type": "markdown",
   "metadata": {},
   "source": [
    "Declaring values for generating my treemix file and ran on it for chromosome 3R, 3L, X, and the X region involved on speciation between <i>An.gambiae</i> and <i>An.coluzzii</i>"
   ]
  },
  {
   "cell_type": "code",
   "execution_count": 15,
   "metadata": {},
   "outputs": [],
   "source": [
    "segpops = ['BFcol', 'CIcol', 'GHcol', 'GNcol','GHgam', 'BFgam', 'GNgam', 'GM', 'GW']\n",
    "n = 100000\n",
    "ldp_n_iter = 1\n",
    "region_X_speciation = 'X-speciation', 'X', 15000000, 24000000 \n",
    "region_X_free = 'X-free', 'X', 1, 14000000 \n",
    "region_3L_free = '3L-free', '3L', 15000000, 41000000\n",
    "region_3R_free = '3R-free', '3R', 1, 24000000 "
   ]
  },
  {
   "cell_type": "code",
   "execution_count": 16,
   "metadata": {},
   "outputs": [
    {
     "name": "stdout",
     "output_type": "stream",
     "text": [
      "3L-free 3L 15000000 41000000\n",
      "Populations ascertainment, initial 5989818\n",
      "After require segregating in BFcol 1743824\n",
      "After require segregating in CIcol 966122\n",
      "After require segregating in GHcol 771417\n",
      "After require segregating in GNcol 264372\n",
      "After require segregating in GHgam 199473\n",
      "After require segregating in BFgam 198010\n",
      "After require segregating in GNgam 194238\n",
      "After require segregating in GM 191296\n",
      "After require segregating in GW 191011\n",
      "iteration 1 retaining 124132 removing 66879 variants\n",
      "treemix/ag_pops/seg_BFcol_CIcol_GHcol_GNcol_GHgam_BFgam_GNgam_GM_GW_ldp_1/3L-free.allele_counts.txt:\t 91.8% -- replaced with treemix/ag_pops/seg_BFcol_CIcol_GHcol_GNcol_GHgam_BFgam_GNgam_GM_GW_ldp_1/3L-free.allele_counts.txt.gz\n"
     ]
    }
   ],
   "source": [
    "rname, chrom, start, stop = region_3L_free\n",
    "log(rname, chrom, start, stop)\n",
    "run_analysis(rname, chrom, start, stop, segpops,n=n, ldp_n_iter=ldp_n_iter)"
   ]
  },
  {
   "cell_type": "code",
   "execution_count": 17,
   "metadata": {},
   "outputs": [
    {
     "name": "stdout",
     "output_type": "stream",
     "text": [
      "3R-free 3R 1 24000000\n",
      "Populations ascertainment, initial 5760020\n",
      "After require segregating in BFcol 1662192\n",
      "After require segregating in CIcol 935048\n",
      "After require segregating in GHcol 745633\n",
      "After require segregating in GNcol 253224\n",
      "After require segregating in GHgam 193813\n",
      "After require segregating in BFgam 192709\n",
      "After require segregating in GNgam 189321\n",
      "After require segregating in GM 186583\n",
      "After require segregating in GW 186277\n",
      "iteration 1 retaining 124545 removing 61732 variants\n",
      "treemix/ag_pops/seg_BFcol_CIcol_GHcol_GNcol_GHgam_BFgam_GNgam_GM_GW_ldp_1/3R-free.allele_counts.txt:\t 92.3% -- replaced with treemix/ag_pops/seg_BFcol_CIcol_GHcol_GNcol_GHgam_BFgam_GNgam_GM_GW_ldp_1/3R-free.allele_counts.txt.gz\n"
     ]
    }
   ],
   "source": [
    "rname, chrom, start, stop = region_3R_free\n",
    "log(rname, chrom, start, stop)\n",
    "run_analysis(rname, chrom, start, stop, segpops,n=n, ldp_n_iter=ldp_n_iter) #outgroups"
   ]
  },
  {
   "cell_type": "code",
   "execution_count": 8,
   "metadata": {},
   "outputs": [
    {
     "name": "stdout",
     "output_type": "stream",
     "text": [
      "X-free X 1 14000000\n",
      "Populations ascertainment, initial 3357129\n",
      "After require segregating in AOcol 283965\n",
      "After require segregating in BFcol 173888\n",
      "After require segregating in CIcol 146215\n",
      "After require segregating in GHcol 135601\n",
      "After require segregating in GNcol 55134\n",
      "After require segregating in GHgam 48802\n",
      "After require segregating in CMgam 48790\n",
      "After require segregating in BFgam 48695\n",
      "After require segregating in GNgam 48384\n",
      "After require segregating in GQgam 40476\n",
      "After require segregating in UGgam 40466\n",
      "After require segregating in GAgam 38465\n",
      "After require segregating in FRgam 16632\n",
      "After require segregating in KE 9986\n",
      "After require segregating in GM 9980\n",
      "After require segregating in GW 9980\n",
      "iteration 1 retaining 8207 removing 1773 variants\n",
      "mkdir: created directory 'd/data/treemix3'\n",
      "mkdir: created directory 'd/data/treemix3/seg_AOcol_BFcol_CIcol_GHcol_GNcol_GHgam_CMgam_BFgam_GNgam_GQgam_UGgam_GAgam_FRgam_KE_GM_GW_ldp_1'\n",
      "d/data/treemix3/seg_AOcol_BFcol_CIcol_GHcol_GNcol_GHgam_CMgam_BFgam_GNgam_GQgam_UGgam_GAgam_FRgam_KE_GM_GW_ldp_1/X-free.allele_counts.txt:\t 93.6% -- replaced with d/data/treemix3/seg_AOcol_BFcol_CIcol_GHcol_GNcol_GHgam_CMgam_BFgam_GNgam_GQgam_UGgam_GAgam_FRgam_KE_GM_GW_ldp_1/X-free.allele_counts.txt.gz\n"
     ]
    }
   ],
   "source": [
    "rname, chrom, start, stop = region_X_free\n",
    "log(rname, chrom, start, stop)\n",
    "run_analysis(rname, chrom, start, stop, segpops, n=n, ldp_n_iter=ldp_n_iter)"
   ]
  },
  {
   "cell_type": "code",
   "execution_count": 9,
   "metadata": {},
   "outputs": [
    {
     "name": "stdout",
     "output_type": "stream",
     "text": [
      "X-speciation X 15000000 24000000\n",
      "Populations ascertainment, initial 883199\n",
      "After require segregating in AOcol 54420\n",
      "After require segregating in BFcol 22465\n",
      "After require segregating in CIcol 18595\n",
      "After require segregating in GHcol 17516\n",
      "After require segregating in GNcol 7051\n",
      "After require segregating in GHgam 2757\n",
      "After require segregating in CMgam 2734\n",
      "After require segregating in BFgam 2634\n",
      "After require segregating in GNgam 2549\n",
      "After require segregating in GQgam 1574\n",
      "After require segregating in UGgam 1570\n",
      "After require segregating in GAgam 1331\n",
      "After require segregating in FRgam 553\n",
      "After require segregating in KE 350\n",
      "After require segregating in GM 347\n",
      "After require segregating in GW 347\n",
      "iteration 1 retaining 149 removing 198 variants\n",
      "d/data/treemix3/seg_AOcol_BFcol_CIcol_GHcol_GNcol_GHgam_CMgam_BFgam_GNgam_GQgam_UGgam_GAgam_FRgam_KE_GM_GW_ldp_1/X-speciation.allele_counts.txt:\t 92.8% -- replaced with d/data/treemix3/seg_AOcol_BFcol_CIcol_GHcol_GNcol_GHgam_CMgam_BFgam_GNgam_GQgam_UGgam_GAgam_FRgam_KE_GM_GW_ldp_1/X-speciation.allele_counts.txt.gz\n"
     ]
    }
   ],
   "source": [
    "rname, chrom, start, stop = region_X_speciation\n",
    "log(rname, chrom, start, stop)\n",
    "run_analysis(rname, chrom, start, stop, segpops, n=n, ldp_n_iter=ldp_n_iter)"
   ]
  },
  {
   "cell_type": "code",
   "execution_count": 11,
   "metadata": {},
   "outputs": [
    {
     "data": {
      "text/html": [
       "<div>\n",
       "<style scoped>\n",
       "    .dataframe tbody tr th:only-of-type {\n",
       "        vertical-align: middle;\n",
       "    }\n",
       "\n",
       "    .dataframe tbody tr th {\n",
       "        vertical-align: top;\n",
       "    }\n",
       "\n",
       "    .dataframe thead th {\n",
       "        text-align: right;\n",
       "    }\n",
       "</style>\n",
       "<table border=\"1\" class=\"dataframe\">\n",
       "  <thead>\n",
       "    <tr style=\"text-align: right;\">\n",
       "      <th></th>\n",
       "      <th>AOcol</th>\n",
       "      <th>BFcol</th>\n",
       "      <th>BFgam</th>\n",
       "      <th>CIcol</th>\n",
       "      <th>CMgam</th>\n",
       "      <th>FRgam</th>\n",
       "      <th>GAgam</th>\n",
       "      <th>GHcol</th>\n",
       "      <th>GHgam</th>\n",
       "      <th>GM</th>\n",
       "      <th>GNcol</th>\n",
       "      <th>GNgam</th>\n",
       "      <th>GQgam</th>\n",
       "      <th>GW</th>\n",
       "      <th>KE</th>\n",
       "      <th>UGgam</th>\n",
       "    </tr>\n",
       "  </thead>\n",
       "  <tbody>\n",
       "    <tr>\n",
       "      <th>0</th>\n",
       "      <td>156,0</td>\n",
       "      <td>148,2</td>\n",
       "      <td>184,0</td>\n",
       "      <td>141,1</td>\n",
       "      <td>594,0</td>\n",
       "      <td>48,0</td>\n",
       "      <td>138,0</td>\n",
       "      <td>108,2</td>\n",
       "      <td>24,0</td>\n",
       "      <td>130,0</td>\n",
       "      <td>8,0</td>\n",
       "      <td>80,0</td>\n",
       "      <td>18,0</td>\n",
       "      <td>182,0</td>\n",
       "      <td>96,0</td>\n",
       "      <td>224,0</td>\n",
       "    </tr>\n",
       "    <tr>\n",
       "      <th>1</th>\n",
       "      <td>156,0</td>\n",
       "      <td>150,0</td>\n",
       "      <td>184,0</td>\n",
       "      <td>142,0</td>\n",
       "      <td>594,0</td>\n",
       "      <td>48,0</td>\n",
       "      <td>138,0</td>\n",
       "      <td>110,0</td>\n",
       "      <td>24,0</td>\n",
       "      <td>130,0</td>\n",
       "      <td>8,0</td>\n",
       "      <td>78,2</td>\n",
       "      <td>18,0</td>\n",
       "      <td>182,0</td>\n",
       "      <td>96,0</td>\n",
       "      <td>224,0</td>\n",
       "    </tr>\n",
       "    <tr>\n",
       "      <th>2</th>\n",
       "      <td>156,0</td>\n",
       "      <td>150,0</td>\n",
       "      <td>183,1</td>\n",
       "      <td>142,0</td>\n",
       "      <td>594,0</td>\n",
       "      <td>48,0</td>\n",
       "      <td>138,0</td>\n",
       "      <td>110,0</td>\n",
       "      <td>24,0</td>\n",
       "      <td>130,0</td>\n",
       "      <td>8,0</td>\n",
       "      <td>80,0</td>\n",
       "      <td>18,0</td>\n",
       "      <td>182,0</td>\n",
       "      <td>96,0</td>\n",
       "      <td>224,0</td>\n",
       "    </tr>\n",
       "    <tr>\n",
       "      <th>3</th>\n",
       "      <td>156,0</td>\n",
       "      <td>150,0</td>\n",
       "      <td>182,2</td>\n",
       "      <td>142,0</td>\n",
       "      <td>590,4</td>\n",
       "      <td>48,0</td>\n",
       "      <td>138,0</td>\n",
       "      <td>110,0</td>\n",
       "      <td>24,0</td>\n",
       "      <td>130,0</td>\n",
       "      <td>8,0</td>\n",
       "      <td>80,0</td>\n",
       "      <td>18,0</td>\n",
       "      <td>182,0</td>\n",
       "      <td>96,0</td>\n",
       "      <td>223,1</td>\n",
       "    </tr>\n",
       "    <tr>\n",
       "      <th>4</th>\n",
       "      <td>156,0</td>\n",
       "      <td>136,14</td>\n",
       "      <td>179,5</td>\n",
       "      <td>133,9</td>\n",
       "      <td>589,3</td>\n",
       "      <td>48,0</td>\n",
       "      <td>138,0</td>\n",
       "      <td>92,18</td>\n",
       "      <td>24,0</td>\n",
       "      <td>129,1</td>\n",
       "      <td>8,0</td>\n",
       "      <td>80,0</td>\n",
       "      <td>18,0</td>\n",
       "      <td>179,3</td>\n",
       "      <td>62,34</td>\n",
       "      <td>224,0</td>\n",
       "    </tr>\n",
       "    <tr>\n",
       "      <th>...</th>\n",
       "      <td>...</td>\n",
       "      <td>...</td>\n",
       "      <td>...</td>\n",
       "      <td>...</td>\n",
       "      <td>...</td>\n",
       "      <td>...</td>\n",
       "      <td>...</td>\n",
       "      <td>...</td>\n",
       "      <td>...</td>\n",
       "      <td>...</td>\n",
       "      <td>...</td>\n",
       "      <td>...</td>\n",
       "      <td>...</td>\n",
       "      <td>...</td>\n",
       "      <td>...</td>\n",
       "      <td>...</td>\n",
       "    </tr>\n",
       "    <tr>\n",
       "      <th>144</th>\n",
       "      <td>156,0</td>\n",
       "      <td>150,0</td>\n",
       "      <td>180,4</td>\n",
       "      <td>142,0</td>\n",
       "      <td>589,5</td>\n",
       "      <td>48,0</td>\n",
       "      <td>138,0</td>\n",
       "      <td>110,0</td>\n",
       "      <td>23,1</td>\n",
       "      <td>129,1</td>\n",
       "      <td>8,0</td>\n",
       "      <td>79,1</td>\n",
       "      <td>18,0</td>\n",
       "      <td>182,0</td>\n",
       "      <td>96,0</td>\n",
       "      <td>223,1</td>\n",
       "    </tr>\n",
       "    <tr>\n",
       "      <th>145</th>\n",
       "      <td>156,0</td>\n",
       "      <td>150,0</td>\n",
       "      <td>184,0</td>\n",
       "      <td>142,0</td>\n",
       "      <td>594,0</td>\n",
       "      <td>48,0</td>\n",
       "      <td>138,0</td>\n",
       "      <td>110,0</td>\n",
       "      <td>24,0</td>\n",
       "      <td>130,0</td>\n",
       "      <td>8,0</td>\n",
       "      <td>80,0</td>\n",
       "      <td>12,6</td>\n",
       "      <td>182,0</td>\n",
       "      <td>96,0</td>\n",
       "      <td>224,0</td>\n",
       "    </tr>\n",
       "    <tr>\n",
       "      <th>146</th>\n",
       "      <td>156,0</td>\n",
       "      <td>150,0</td>\n",
       "      <td>184,0</td>\n",
       "      <td>142,0</td>\n",
       "      <td>593,1</td>\n",
       "      <td>48,0</td>\n",
       "      <td>138,0</td>\n",
       "      <td>110,0</td>\n",
       "      <td>24,0</td>\n",
       "      <td>130,0</td>\n",
       "      <td>8,0</td>\n",
       "      <td>80,0</td>\n",
       "      <td>18,0</td>\n",
       "      <td>182,0</td>\n",
       "      <td>96,0</td>\n",
       "      <td>224,0</td>\n",
       "    </tr>\n",
       "    <tr>\n",
       "      <th>147</th>\n",
       "      <td>156,0</td>\n",
       "      <td>150,0</td>\n",
       "      <td>184,0</td>\n",
       "      <td>142,0</td>\n",
       "      <td>594,0</td>\n",
       "      <td>48,0</td>\n",
       "      <td>138,0</td>\n",
       "      <td>110,0</td>\n",
       "      <td>24,0</td>\n",
       "      <td>130,0</td>\n",
       "      <td>8,0</td>\n",
       "      <td>80,0</td>\n",
       "      <td>18,0</td>\n",
       "      <td>182,0</td>\n",
       "      <td>96,0</td>\n",
       "      <td>223,1</td>\n",
       "    </tr>\n",
       "    <tr>\n",
       "      <th>148</th>\n",
       "      <td>156,0</td>\n",
       "      <td>132,18</td>\n",
       "      <td>183,1</td>\n",
       "      <td>132,10</td>\n",
       "      <td>593,1</td>\n",
       "      <td>48,0</td>\n",
       "      <td>138,0</td>\n",
       "      <td>92,18</td>\n",
       "      <td>24,0</td>\n",
       "      <td>129,1</td>\n",
       "      <td>8,0</td>\n",
       "      <td>80,0</td>\n",
       "      <td>18,0</td>\n",
       "      <td>179,3</td>\n",
       "      <td>62,34</td>\n",
       "      <td>224,0</td>\n",
       "    </tr>\n",
       "  </tbody>\n",
       "</table>\n",
       "<p>149 rows × 16 columns</p>\n",
       "</div>"
      ],
      "text/plain": [
       "     AOcol   BFcol  BFgam   CIcol  CMgam FRgam  GAgam  GHcol GHgam     GM  \\\n",
       "0    156,0   148,2  184,0   141,1  594,0  48,0  138,0  108,2  24,0  130,0   \n",
       "1    156,0   150,0  184,0   142,0  594,0  48,0  138,0  110,0  24,0  130,0   \n",
       "2    156,0   150,0  183,1   142,0  594,0  48,0  138,0  110,0  24,0  130,0   \n",
       "3    156,0   150,0  182,2   142,0  590,4  48,0  138,0  110,0  24,0  130,0   \n",
       "4    156,0  136,14  179,5   133,9  589,3  48,0  138,0  92,18  24,0  129,1   \n",
       "..     ...     ...    ...     ...    ...   ...    ...    ...   ...    ...   \n",
       "144  156,0   150,0  180,4   142,0  589,5  48,0  138,0  110,0  23,1  129,1   \n",
       "145  156,0   150,0  184,0   142,0  594,0  48,0  138,0  110,0  24,0  130,0   \n",
       "146  156,0   150,0  184,0   142,0  593,1  48,0  138,0  110,0  24,0  130,0   \n",
       "147  156,0   150,0  184,0   142,0  594,0  48,0  138,0  110,0  24,0  130,0   \n",
       "148  156,0  132,18  183,1  132,10  593,1  48,0  138,0  92,18  24,0  129,1   \n",
       "\n",
       "    GNcol GNgam GQgam     GW     KE  UGgam  \n",
       "0     8,0  80,0  18,0  182,0   96,0  224,0  \n",
       "1     8,0  78,2  18,0  182,0   96,0  224,0  \n",
       "2     8,0  80,0  18,0  182,0   96,0  224,0  \n",
       "3     8,0  80,0  18,0  182,0   96,0  223,1  \n",
       "4     8,0  80,0  18,0  179,3  62,34  224,0  \n",
       "..    ...   ...   ...    ...    ...    ...  \n",
       "144   8,0  79,1  18,0  182,0   96,0  223,1  \n",
       "145   8,0  80,0  12,6  182,0   96,0  224,0  \n",
       "146   8,0  80,0  18,0  182,0   96,0  224,0  \n",
       "147   8,0  80,0  18,0  182,0   96,0  223,1  \n",
       "148   8,0  80,0  18,0  179,3  62,34  224,0  \n",
       "\n",
       "[149 rows x 16 columns]"
      ]
     },
     "execution_count": 11,
     "metadata": {},
     "output_type": "execute_result"
    }
   ],
   "source": [
    "df = pd.read_csv('d/data/treemix/seg_AOcol_BFcol_CIcol_GHcol_GNcol_GHgam_CMgam_BFgam_GNgam_GQgam_UGgam_GAgam_FRgam_KE_GM_GW_ldp_1/X-speciation.allele_counts.txt.gz', sep = ' ')\n",
    "df"
   ]
  },
  {
   "cell_type": "code",
   "execution_count": 13,
   "metadata": {},
   "outputs": [],
   "source": [
    "df.to_csv('x_spec.txt',index=False, sep=\" \")"
   ]
  },
  {
   "cell_type": "markdown",
   "metadata": {},
   "source": [
    "## Treemix\n",
    "\n",
    "Total SNPs per chromosomes:\n",
    "- <b>3L-free</b>: 48664 SNPs\n",
    "- <b>3R-free</b>: 66465 SNPs\n",
    "- <b>X-free</b>: 8207 SNPs\n",
    "- <b>X-speciation</b>: 149 SNPs"
   ]
  },
  {
   "cell_type": "code",
   "execution_count": 2,
   "metadata": {},
   "outputs": [],
   "source": [
    "from IPython.display import Image"
   ]
  },
  {
   "cell_type": "markdown",
   "metadata": {},
   "source": [
    "### 3L-free"
   ]
  },
  {
   "cell_type": "markdown",
   "metadata": {},
   "source": [
    "### 3R-free"
   ]
  },
  {
   "cell_type": "markdown",
   "metadata": {},
   "source": [
    "### X-free"
   ]
  },
  {
   "cell_type": "markdown",
   "metadata": {},
   "source": [
    "### X-speciation"
   ]
  }
 ],
 "metadata": {
  "kernelspec": {
   "display_name": "Python 3",
   "language": "python",
   "name": "python3"
  },
  "language_info": {
   "codemirror_mode": {
    "name": "ipython",
    "version": 3
   },
   "file_extension": ".py",
   "mimetype": "text/x-python",
   "name": "python",
   "nbconvert_exporter": "python",
   "pygments_lexer": "ipython3",
   "version": "3.7.6"
  }
 },
 "nbformat": 4,
 "nbformat_minor": 4
}
